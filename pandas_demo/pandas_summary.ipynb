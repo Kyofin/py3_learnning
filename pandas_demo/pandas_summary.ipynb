{
  "cells": [
    {
      "cell_type": "code",
      "execution_count": 1,
      "metadata": {
        "collapsed": true,
        "pycharm": {
          "is_executing": false
        }
      },
      "outputs": [],
      "source": "import pandas as pd\nimport matplotlib\nimport pandas_profiling\nimport cufflinks as cf\nfrom plotly.offline import plot\n"
    },
    {
      "cell_type": "code",
      "execution_count": 2,
      "metadata": {
        "pycharm": {}
      },
      "outputs": [],
      "source": "sourceFile \u003d \u0027/Volumes/Samsung_T5/huzekang/dataset/Data Analysis/链家jupty数据分析/community.csv\u0027\n# 读取csv,设置low_memory\u003dFalse防止内存不够时报警告\ndf \u003d pd.read_csv(sourceFile, low_memory\u003dFalse)\n"
    },
    {
      "cell_type": "code",
      "execution_count": 3,
      "metadata": {
        "pycharm": {}
      },
      "outputs": [
        {
          "output_type": "stream",
          "name": "stderr",
          "text": "variables: 100%|██████████| 8/8 [00:01\u003c00:00,  7.37it/s]\ntable: 100%|██████████| 1/1 [00:00\u003c00:00, 22.74it/s]\nwarnings [correlations]: 100%|██████████| 3/3 [00:00\u003c00:00, 937.48it/s]\npackage: 100%|██████████| 1/1 [00:00\u003c00:00, 86.32it/s]\nbuild report structure: 100%|██████████| 1/1 [00:00\u003c00:00,  1.45it/s]\n"
        }
      ],
      "source": "# 使用pandas_profiling生成丰富的数据EDA报告 (交互式时，大数据集必须加上minimal参数。但在命令行中直接使用 pandas_profiling 则没事)\n# Exploratory Data Analysis(EDA)\nresult \u003ddf.profile_report(title\u003d\u0027数据报告\u0027,minimal\u003dTrue)\nresult.to_file(\u0027/Volumes/Samsung_T5/huzekang/dataset/数据报告.html\u0027)\n"
    },
    {
      "cell_type": "code",
      "execution_count": 4,
      "metadata": {
        "pycharm": {}
      },
      "outputs": [
        {
          "output_type": "execute_result",
          "data": {
            "text/plain": "\u003cmatplotlib.axes._subplots.AxesSubplot at 0x11d6b25d0\u003e"
          },
          "metadata": {},
          "execution_count": 4
        },
        {
          "output_type": "display_data",
          "data": {
            "text/plain": "\u003cFigure size 576x396 with 1 Axes\u003e",
            "image/svg+xml": "\u003c?xml version\u003d\"1.0\" encoding\u003d\"utf-8\" standalone\u003d\"no\"?\u003e\n\u003c!DOCTYPE svg PUBLIC \"-//W3C//DTD SVG 1.1//EN\"\n  \"http://www.w3.org/Graphics/SVG/1.1/DTD/svg11.dtd\"\u003e\n\u003c!-- Created with matplotlib (https://matplotlib.org/) --\u003e\n\u003csvg height\u003d\"343.183125pt\" version\u003d\"1.1\" viewBox\u003d\"0 0 492.047989 343.183125\" width\u003d\"492.047989pt\" xmlns\u003d\"http://www.w3.org/2000/svg\" xmlns:xlink\u003d\"http://www.w3.org/1999/xlink\"\u003e\n \u003cdefs\u003e\n  \u003cstyle type\u003d\"text/css\"\u003e\n*{stroke-linecap:butt;stroke-linejoin:round;}\n  \u003c/style\u003e\n \u003c/defs\u003e\n \u003cg id\u003d\"figure_1\"\u003e\n  \u003cg id\u003d\"patch_1\"\u003e\n   \u003cpath d\u003d\"M 0 343.183125 \nL 492.047989 343.183125 \nL 492.047989 -0 \nL 0 -0 \nz\n\" style\u003d\"fill:#ffffff;\"/\u003e\n  \u003c/g\u003e\n  \u003cg id\u003d\"axes_1\"\u003e\n   \u003cg id\u003d\"patch_2\"\u003e\n    \u003cpath d\u003d\"M 31.6 316.337812 \nL 478 316.337812 \nL 478 17.357812 \nL 31.6 17.357812 \nz\n\" style\u003d\"fill:#ffffff;\"/\u003e\n   \u003c/g\u003e\n   \u003cg id\u003d\"matplotlib.axis_1\"\u003e\n    \u003cg id\u003d\"xtick_1\"\u003e\n     \u003cg id\u003d\"text_1\"\u003e\n      \u003c!-- 0 --\u003e\n      \u003cdefs\u003e\n       \u003cpath d\u003d\"M 4.15625 35.296875 \nQ 4.15625 48 6.765625 55.734375 \nQ 9.375 63.484375 14.515625 67.671875 \nQ 19.671875 71.875 27.484375 71.875 \nQ 33.25 71.875 37.59375 69.546875 \nQ 41.9375 67.234375 44.765625 62.859375 \nQ 47.609375 58.5 49.21875 52.21875 \nQ 50.828125 45.953125 50.828125 35.296875 \nQ 50.828125 22.703125 48.234375 14.96875 \nQ 45.65625 7.234375 40.5 3 \nQ 35.359375 -1.21875 27.484375 -1.21875 \nQ 17.140625 -1.21875 11.234375 6.203125 \nQ 4.15625 15.140625 4.15625 35.296875 \nz\nM 13.1875 35.296875 \nQ 13.1875 17.671875 17.3125 11.828125 \nQ 21.4375 6 27.484375 6 \nQ 33.546875 6 37.671875 11.859375 \nQ 41.796875 17.71875 41.796875 35.296875 \nQ 41.796875 52.984375 37.671875 58.78125 \nQ 33.546875 64.59375 27.390625 64.59375 \nQ 21.34375 64.59375 17.71875 59.46875 \nQ 13.1875 52.9375 13.1875 35.296875 \nz\n\" id\u003d\"ArialMT-48\"/\u003e\n      \u003c/defs\u003e\n      \u003cg style\u003d\"fill:#262626;\" transform\u003d\"translate(28.819531 333.995625)scale(0.1 -0.1)\"\u003e\n       \u003cuse xlink:href\u003d\"#ArialMT-48\"/\u003e\n      \u003c/g\u003e\n     \u003c/g\u003e\n    \u003c/g\u003e\n    \u003cg id\u003d\"xtick_2\"\u003e\n     \u003cg id\u003d\"text_2\"\u003e\n      \u003c!-- 1000 --\u003e\n      \u003cdefs\u003e\n       \u003cpath d\u003d\"M 37.25 0 \nL 28.46875 0 \nL 28.46875 56 \nQ 25.296875 52.984375 20.140625 49.953125 \nQ 14.984375 46.921875 10.890625 45.40625 \nL 10.890625 53.90625 \nQ 18.265625 57.375 23.78125 62.296875 \nQ 29.296875 67.234375 31.59375 71.875 \nL 37.25 71.875 \nz\n\" id\u003d\"ArialMT-49\"/\u003e\n      \u003c/defs\u003e\n      \u003cg style\u003d\"fill:#262626;\" transform\u003d\"translate(94.165811 333.995625)scale(0.1 -0.1)\"\u003e\n       \u003cuse xlink:href\u003d\"#ArialMT-49\"/\u003e\n       \u003cuse x\u003d\"55.615234\" xlink:href\u003d\"#ArialMT-48\"/\u003e\n       \u003cuse x\u003d\"111.230469\" xlink:href\u003d\"#ArialMT-48\"/\u003e\n       \u003cuse x\u003d\"166.845703\" xlink:href\u003d\"#ArialMT-48\"/\u003e\n      \u003c/g\u003e\n     \u003c/g\u003e\n    \u003c/g\u003e\n    \u003cg id\u003d\"xtick_3\"\u003e\n     \u003cg id\u003d\"text_3\"\u003e\n      \u003c!-- 2000 --\u003e\n      \u003cdefs\u003e\n       \u003cpath d\u003d\"M 50.34375 8.453125 \nL 50.34375 0 \nL 3.03125 0 \nQ 2.9375 3.171875 4.046875 6.109375 \nQ 5.859375 10.9375 9.828125 15.625 \nQ 13.8125 20.3125 21.34375 26.46875 \nQ 33.015625 36.03125 37.109375 41.625 \nQ 41.21875 47.21875 41.21875 52.203125 \nQ 41.21875 57.421875 37.46875 61 \nQ 33.734375 64.59375 27.734375 64.59375 \nQ 21.390625 64.59375 17.578125 60.78125 \nQ 13.765625 56.984375 13.71875 50.25 \nL 4.6875 51.171875 \nQ 5.609375 61.28125 11.65625 66.578125 \nQ 17.71875 71.875 27.9375 71.875 \nQ 38.234375 71.875 44.234375 66.15625 \nQ 50.25 60.453125 50.25 52 \nQ 50.25 47.703125 48.484375 43.546875 \nQ 46.734375 39.40625 42.65625 34.8125 \nQ 38.578125 30.21875 29.109375 22.21875 \nQ 21.1875 15.578125 18.9375 13.203125 \nQ 16.703125 10.84375 15.234375 8.453125 \nz\n\" id\u003d\"ArialMT-50\"/\u003e\n      \u003c/defs\u003e\n      \u003cg style\u003d\"fill:#262626;\" transform\u003d\"translate(167.853496 333.995625)scale(0.1 -0.1)\"\u003e\n       \u003cuse xlink:href\u003d\"#ArialMT-50\"/\u003e\n       \u003cuse x\u003d\"55.615234\" xlink:href\u003d\"#ArialMT-48\"/\u003e\n       \u003cuse x\u003d\"111.230469\" xlink:href\u003d\"#ArialMT-48\"/\u003e\n       \u003cuse x\u003d\"166.845703\" xlink:href\u003d\"#ArialMT-48\"/\u003e\n      \u003c/g\u003e\n     \u003c/g\u003e\n    \u003c/g\u003e\n    \u003cg id\u003d\"xtick_4\"\u003e\n     \u003cg id\u003d\"text_4\"\u003e\n      \u003c!-- 3000 --\u003e\n      \u003cdefs\u003e\n       \u003cpath d\u003d\"M 4.203125 18.890625 \nL 12.984375 20.0625 \nQ 14.5 12.59375 18.140625 9.296875 \nQ 21.78125 6 27 6 \nQ 33.203125 6 37.46875 10.296875 \nQ 41.75 14.59375 41.75 20.953125 \nQ 41.75 27 37.796875 30.921875 \nQ 33.84375 34.859375 27.734375 34.859375 \nQ 25.25 34.859375 21.53125 33.890625 \nL 22.515625 41.609375 \nQ 23.390625 41.5 23.921875 41.5 \nQ 29.546875 41.5 34.03125 44.421875 \nQ 38.53125 47.359375 38.53125 53.46875 \nQ 38.53125 58.296875 35.25 61.46875 \nQ 31.984375 64.65625 26.8125 64.65625 \nQ 21.6875 64.65625 18.265625 61.421875 \nQ 14.84375 58.203125 13.875 51.765625 \nL 5.078125 53.328125 \nQ 6.6875 62.15625 12.390625 67.015625 \nQ 18.109375 71.875 26.609375 71.875 \nQ 32.46875 71.875 37.390625 69.359375 \nQ 42.328125 66.84375 44.9375 62.5 \nQ 47.5625 58.15625 47.5625 53.265625 \nQ 47.5625 48.640625 45.0625 44.828125 \nQ 42.578125 41.015625 37.703125 38.765625 \nQ 44.046875 37.3125 47.5625 32.6875 \nQ 51.078125 28.078125 51.078125 21.140625 \nQ 51.078125 11.765625 44.234375 5.25 \nQ 37.40625 -1.265625 26.953125 -1.265625 \nQ 17.53125 -1.265625 11.296875 4.34375 \nQ 5.078125 9.96875 4.203125 18.890625 \nz\n\" id\u003d\"ArialMT-51\"/\u003e\n      \u003c/defs\u003e\n      \u003cg style\u003d\"fill:#262626;\" transform\u003d\"translate(241.541182 333.995625)scale(0.1 -0.1)\"\u003e\n       \u003cuse xlink:href\u003d\"#ArialMT-51\"/\u003e\n       \u003cuse x\u003d\"55.615234\" xlink:href\u003d\"#ArialMT-48\"/\u003e\n       \u003cuse x\u003d\"111.230469\" xlink:href\u003d\"#ArialMT-48\"/\u003e\n       \u003cuse x\u003d\"166.845703\" xlink:href\u003d\"#ArialMT-48\"/\u003e\n      \u003c/g\u003e\n     \u003c/g\u003e\n    \u003c/g\u003e\n    \u003cg id\u003d\"xtick_5\"\u003e\n     \u003cg id\u003d\"text_5\"\u003e\n      \u003c!-- 4000 --\u003e\n      \u003cdefs\u003e\n       \u003cpath d\u003d\"M 32.328125 0 \nL 32.328125 17.140625 \nL 1.265625 17.140625 \nL 1.265625 25.203125 \nL 33.9375 71.578125 \nL 41.109375 71.578125 \nL 41.109375 25.203125 \nL 50.78125 25.203125 \nL 50.78125 17.140625 \nL 41.109375 17.140625 \nL 41.109375 0 \nz\nM 32.328125 25.203125 \nL 32.328125 57.46875 \nL 9.90625 25.203125 \nz\n\" id\u003d\"ArialMT-52\"/\u003e\n      \u003c/defs\u003e\n      \u003cg style\u003d\"fill:#262626;\" transform\u003d\"translate(315.228868 333.995625)scale(0.1 -0.1)\"\u003e\n       \u003cuse xlink:href\u003d\"#ArialMT-52\"/\u003e\n       \u003cuse x\u003d\"55.615234\" xlink:href\u003d\"#ArialMT-48\"/\u003e\n       \u003cuse x\u003d\"111.230469\" xlink:href\u003d\"#ArialMT-48\"/\u003e\n       \u003cuse x\u003d\"166.845703\" xlink:href\u003d\"#ArialMT-48\"/\u003e\n      \u003c/g\u003e\n     \u003c/g\u003e\n    \u003c/g\u003e\n    \u003cg id\u003d\"xtick_6\"\u003e\n     \u003cg id\u003d\"text_6\"\u003e\n      \u003c!-- 5000 --\u003e\n      \u003cdefs\u003e\n       \u003cpath d\u003d\"M 4.15625 18.75 \nL 13.375 19.53125 \nQ 14.40625 12.796875 18.140625 9.390625 \nQ 21.875 6 27.15625 6 \nQ 33.5 6 37.890625 10.78125 \nQ 42.28125 15.578125 42.28125 23.484375 \nQ 42.28125 31 38.0625 35.34375 \nQ 33.84375 39.703125 27 39.703125 \nQ 22.75 39.703125 19.328125 37.765625 \nQ 15.921875 35.84375 13.96875 32.765625 \nL 5.71875 33.84375 \nL 12.640625 70.609375 \nL 48.25 70.609375 \nL 48.25 62.203125 \nL 19.671875 62.203125 \nL 15.828125 42.96875 \nQ 22.265625 47.46875 29.34375 47.46875 \nQ 38.71875 47.46875 45.15625 40.96875 \nQ 51.609375 34.46875 51.609375 24.265625 \nQ 51.609375 14.546875 45.953125 7.46875 \nQ 39.0625 -1.21875 27.15625 -1.21875 \nQ 17.390625 -1.21875 11.203125 4.25 \nQ 5.03125 9.71875 4.15625 18.75 \nz\n\" id\u003d\"ArialMT-53\"/\u003e\n      \u003c/defs\u003e\n      \u003cg style\u003d\"fill:#262626;\" transform\u003d\"translate(388.916554 333.995625)scale(0.1 -0.1)\"\u003e\n       \u003cuse xlink:href\u003d\"#ArialMT-53\"/\u003e\n       \u003cuse x\u003d\"55.615234\" xlink:href\u003d\"#ArialMT-48\"/\u003e\n       \u003cuse x\u003d\"111.230469\" xlink:href\u003d\"#ArialMT-48\"/\u003e\n       \u003cuse x\u003d\"166.845703\" xlink:href\u003d\"#ArialMT-48\"/\u003e\n      \u003c/g\u003e\n     \u003c/g\u003e\n    \u003c/g\u003e\n    \u003cg id\u003d\"xtick_7\"\u003e\n     \u003cg id\u003d\"text_7\"\u003e\n      \u003c!-- 6000 --\u003e\n      \u003cdefs\u003e\n       \u003cpath d\u003d\"M 49.75 54.046875 \nL 41.015625 53.375 \nQ 39.84375 58.546875 37.703125 60.890625 \nQ 34.125 64.65625 28.90625 64.65625 \nQ 24.703125 64.65625 21.53125 62.3125 \nQ 17.390625 59.28125 14.984375 53.46875 \nQ 12.59375 47.65625 12.5 36.921875 \nQ 15.671875 41.75 20.265625 44.09375 \nQ 24.859375 46.4375 29.890625 46.4375 \nQ 38.671875 46.4375 44.84375 39.96875 \nQ 51.03125 33.5 51.03125 23.25 \nQ 51.03125 16.5 48.125 10.71875 \nQ 45.21875 4.9375 40.140625 1.859375 \nQ 35.0625 -1.21875 28.609375 -1.21875 \nQ 17.625 -1.21875 10.6875 6.859375 \nQ 3.765625 14.9375 3.765625 33.5 \nQ 3.765625 54.25 11.421875 63.671875 \nQ 18.109375 71.875 29.4375 71.875 \nQ 37.890625 71.875 43.28125 67.140625 \nQ 48.6875 62.40625 49.75 54.046875 \nz\nM 13.875 23.1875 \nQ 13.875 18.65625 15.796875 14.5 \nQ 17.71875 10.359375 21.1875 8.171875 \nQ 24.65625 6 28.46875 6 \nQ 34.03125 6 38.03125 10.484375 \nQ 42.046875 14.984375 42.046875 22.703125 \nQ 42.046875 30.125 38.078125 34.390625 \nQ 34.125 38.671875 28.125 38.671875 \nQ 22.171875 38.671875 18.015625 34.390625 \nQ 13.875 30.125 13.875 23.1875 \nz\n\" id\u003d\"ArialMT-54\"/\u003e\n      \u003c/defs\u003e\n      \u003cg style\u003d\"fill:#262626;\" transform\u003d\"translate(462.604239 333.995625)scale(0.1 -0.1)\"\u003e\n       \u003cuse xlink:href\u003d\"#ArialMT-54\"/\u003e\n       \u003cuse x\u003d\"55.615234\" xlink:href\u003d\"#ArialMT-48\"/\u003e\n       \u003cuse x\u003d\"111.230469\" xlink:href\u003d\"#ArialMT-48\"/\u003e\n       \u003cuse x\u003d\"166.845703\" xlink:href\u003d\"#ArialMT-48\"/\u003e\n      \u003c/g\u003e\n     \u003c/g\u003e\n    \u003c/g\u003e\n   \u003c/g\u003e\n   \u003cg id\u003d\"matplotlib.axis_2\"\u003e\n    \u003cg id\u003d\"ytick_1\"\u003e\n     \u003cg id\u003d\"text_8\"\u003e\n      \u003c!-- 0.0 --\u003e\n      \u003cdefs\u003e\n       \u003cpath d\u003d\"M 9.078125 0 \nL 9.078125 10.015625 \nL 19.09375 10.015625 \nL 19.09375 0 \nz\n\" id\u003d\"ArialMT-46\"/\u003e\n      \u003c/defs\u003e\n      \u003cg style\u003d\"fill:#262626;\" transform\u003d\"translate(7.2 306.326719)scale(0.1 -0.1)\"\u003e\n       \u003cuse xlink:href\u003d\"#ArialMT-48\"/\u003e\n       \u003cuse x\u003d\"55.615234\" xlink:href\u003d\"#ArialMT-46\"/\u003e\n       \u003cuse x\u003d\"83.398438\" xlink:href\u003d\"#ArialMT-48\"/\u003e\n      \u003c/g\u003e\n     \u003c/g\u003e\n    \u003c/g\u003e\n    \u003cg id\u003d\"ytick_2\"\u003e\n     \u003cg id\u003d\"text_9\"\u003e\n      \u003c!-- 0.2 --\u003e\n      \u003cg style\u003d\"fill:#262626;\" transform\u003d\"translate(7.2 257.792153)scale(0.1 -0.1)\"\u003e\n       \u003cuse xlink:href\u003d\"#ArialMT-48\"/\u003e\n       \u003cuse x\u003d\"55.615234\" xlink:href\u003d\"#ArialMT-46\"/\u003e\n       \u003cuse x\u003d\"83.398438\" xlink:href\u003d\"#ArialMT-50\"/\u003e\n      \u003c/g\u003e\n     \u003c/g\u003e\n    \u003c/g\u003e\n    \u003cg id\u003d\"ytick_3\"\u003e\n     \u003cg id\u003d\"text_10\"\u003e\n      \u003c!-- 0.4 --\u003e\n      \u003cg style\u003d\"fill:#262626;\" transform\u003d\"translate(7.2 209.257588)scale(0.1 -0.1)\"\u003e\n       \u003cuse xlink:href\u003d\"#ArialMT-48\"/\u003e\n       \u003cuse x\u003d\"55.615234\" xlink:href\u003d\"#ArialMT-46\"/\u003e\n       \u003cuse x\u003d\"83.398438\" xlink:href\u003d\"#ArialMT-52\"/\u003e\n      \u003c/g\u003e\n     \u003c/g\u003e\n    \u003c/g\u003e\n    \u003cg id\u003d\"ytick_4\"\u003e\n     \u003cg id\u003d\"text_11\"\u003e\n      \u003c!-- 0.6 --\u003e\n      \u003cg style\u003d\"fill:#262626;\" transform\u003d\"translate(7.2 160.723022)scale(0.1 -0.1)\"\u003e\n       \u003cuse xlink:href\u003d\"#ArialMT-48\"/\u003e\n       \u003cuse x\u003d\"55.615234\" xlink:href\u003d\"#ArialMT-46\"/\u003e\n       \u003cuse x\u003d\"83.398438\" xlink:href\u003d\"#ArialMT-54\"/\u003e\n      \u003c/g\u003e\n     \u003c/g\u003e\n    \u003c/g\u003e\n    \u003cg id\u003d\"ytick_5\"\u003e\n     \u003cg id\u003d\"text_12\"\u003e\n      \u003c!-- 0.8 --\u003e\n      \u003cdefs\u003e\n       \u003cpath d\u003d\"M 17.671875 38.8125 \nQ 12.203125 40.828125 9.5625 44.53125 \nQ 6.9375 48.25 6.9375 53.421875 \nQ 6.9375 61.234375 12.546875 66.546875 \nQ 18.171875 71.875 27.484375 71.875 \nQ 36.859375 71.875 42.578125 66.421875 \nQ 48.296875 60.984375 48.296875 53.171875 \nQ 48.296875 48.1875 45.671875 44.5 \nQ 43.0625 40.828125 37.75 38.8125 \nQ 44.34375 36.671875 47.78125 31.875 \nQ 51.21875 27.09375 51.21875 20.453125 \nQ 51.21875 11.28125 44.71875 5.03125 \nQ 38.234375 -1.21875 27.640625 -1.21875 \nQ 17.046875 -1.21875 10.546875 5.046875 \nQ 4.046875 11.328125 4.046875 20.703125 \nQ 4.046875 27.6875 7.59375 32.390625 \nQ 11.140625 37.109375 17.671875 38.8125 \nz\nM 15.921875 53.71875 \nQ 15.921875 48.640625 19.1875 45.40625 \nQ 22.46875 42.1875 27.6875 42.1875 \nQ 32.765625 42.1875 36.015625 45.375 \nQ 39.265625 48.578125 39.265625 53.21875 \nQ 39.265625 58.0625 35.90625 61.359375 \nQ 32.5625 64.65625 27.59375 64.65625 \nQ 22.5625 64.65625 19.234375 61.421875 \nQ 15.921875 58.203125 15.921875 53.71875 \nz\nM 13.09375 20.65625 \nQ 13.09375 16.890625 14.875 13.375 \nQ 16.65625 9.859375 20.171875 7.921875 \nQ 23.6875 6 27.734375 6 \nQ 34.03125 6 38.125 10.046875 \nQ 42.234375 14.109375 42.234375 20.359375 \nQ 42.234375 26.703125 38.015625 30.859375 \nQ 33.796875 35.015625 27.4375 35.015625 \nQ 21.234375 35.015625 17.15625 30.90625 \nQ 13.09375 26.8125 13.09375 20.65625 \nz\n\" id\u003d\"ArialMT-56\"/\u003e\n      \u003c/defs\u003e\n      \u003cg style\u003d\"fill:#262626;\" transform\u003d\"translate(7.2 112.188457)scale(0.1 -0.1)\"\u003e\n       \u003cuse xlink:href\u003d\"#ArialMT-48\"/\u003e\n       \u003cuse x\u003d\"55.615234\" xlink:href\u003d\"#ArialMT-46\"/\u003e\n       \u003cuse x\u003d\"83.398438\" xlink:href\u003d\"#ArialMT-56\"/\u003e\n      \u003c/g\u003e\n     \u003c/g\u003e\n    \u003c/g\u003e\n    \u003cg id\u003d\"ytick_6\"\u003e\n     \u003cg id\u003d\"text_13\"\u003e\n      \u003c!-- 1.0 --\u003e\n      \u003cg style\u003d\"fill:#262626;\" transform\u003d\"translate(7.2 63.653891)scale(0.1 -0.1)\"\u003e\n       \u003cuse xlink:href\u003d\"#ArialMT-49\"/\u003e\n       \u003cuse x\u003d\"55.615234\" xlink:href\u003d\"#ArialMT-46\"/\u003e\n       \u003cuse x\u003d\"83.398438\" xlink:href\u003d\"#ArialMT-48\"/\u003e\n      \u003c/g\u003e\n     \u003c/g\u003e\n    \u003c/g\u003e\n    \u003cg id\u003d\"text_14\"\u003e\n     \u003c!-- 1e15 --\u003e\n     \u003cdefs\u003e\n      \u003cpath d\u003d\"M 42.09375 16.703125 \nL 51.171875 15.578125 \nQ 49.03125 7.625 43.21875 3.21875 \nQ 37.40625 -1.171875 28.375 -1.171875 \nQ 17 -1.171875 10.328125 5.828125 \nQ 3.65625 12.84375 3.65625 25.484375 \nQ 3.65625 38.578125 10.390625 45.796875 \nQ 17.140625 53.03125 27.875 53.03125 \nQ 38.28125 53.03125 44.875 45.953125 \nQ 51.46875 38.875 51.46875 26.03125 \nQ 51.46875 25.25 51.421875 23.6875 \nL 12.75 23.6875 \nQ 13.234375 15.140625 17.578125 10.59375 \nQ 21.921875 6.0625 28.421875 6.0625 \nQ 33.25 6.0625 36.671875 8.59375 \nQ 40.09375 11.140625 42.09375 16.703125 \nz\nM 13.234375 30.90625 \nL 42.1875 30.90625 \nQ 41.609375 37.453125 38.875 40.71875 \nQ 34.671875 45.796875 27.984375 45.796875 \nQ 21.921875 45.796875 17.796875 41.75 \nQ 13.671875 37.703125 13.234375 30.90625 \nz\n\" id\u003d\"ArialMT-101\"/\u003e\n     \u003c/defs\u003e\n     \u003cg style\u003d\"fill:#262626;\" transform\u003d\"translate(31.6 14.357812)scale(0.1 -0.1)\"\u003e\n      \u003cuse xlink:href\u003d\"#ArialMT-49\"/\u003e\n      \u003cuse x\u003d\"55.615234\" xlink:href\u003d\"#ArialMT-101\"/\u003e\n      \u003cuse x\u003d\"111.230469\" xlink:href\u003d\"#ArialMT-49\"/\u003e\n      \u003cuse x\u003d\"166.845703\" xlink:href\u003d\"#ArialMT-53\"/\u003e\n     \u003c/g\u003e\n    \u003c/g\u003e\n   \u003c/g\u003e\n   \u003cg id\u003d\"line2d_1\"\u003e\n    \u003cpath clip-path\u003d\"url(#p1f804c3f48)\" d\u003d\"M 31.6 302.478203 \nL 461.12552 302.478179 \nL 461.272895 274.396515 \nL 461.567646 274.346603 \nL 462.378211 274.253079 \nL 463.704589 273.665739 \nL 463.851964 33.297285 \nL 464.883592 32.853381 \nL 465.546781 32.709239 \nL 466.504721 32.463228 \nL 466.946847 32.380998 \nL 467.462661 32.19383 \nL 467.904787 32.153873 \nL 468.12585 32.045556 \nL 468.199538 32.044707 \nL 468.567976 31.418081 \nL 468.862727 31.373496 \nL 469.010102 30.949289 \nL 478 30.947812 \nL 478 30.947812 \n\" style\u003d\"fill:none;stroke:#1f77b4;stroke-linecap:round;stroke-width:1.75;\"/\u003e\n   \u003c/g\u003e\n   \u003cg id\u003d\"line2d_2\"\u003e\n    \u003cpath clip-path\u003d\"url(#p1f804c3f48)\" d\u003d\"M 31.6 302.747812 \nL 478 302.747812 \nL 478 302.747812 \n\" style\u003d\"fill:none;stroke:#ff7f0e;stroke-linecap:round;stroke-width:1.75;\"/\u003e\n   \u003c/g\u003e\n   \u003cg id\u003d\"patch_3\"\u003e\n    \u003cpath d\u003d\"M 31.6 316.337812 \nL 31.6 17.357812 \n\" style\u003d\"fill:none;\"/\u003e\n   \u003c/g\u003e\n   \u003cg id\u003d\"patch_4\"\u003e\n    \u003cpath d\u003d\"M 478 316.337812 \nL 478 17.357812 \n\" style\u003d\"fill:none;\"/\u003e\n   \u003c/g\u003e\n   \u003cg id\u003d\"patch_5\"\u003e\n    \u003cpath d\u003d\"M 31.6 316.337812 \nL 478 316.337812 \n\" style\u003d\"fill:none;\"/\u003e\n   \u003c/g\u003e\n   \u003cg id\u003d\"patch_6\"\u003e\n    \u003cpath d\u003d\"M 31.6 17.357812 \nL 478 17.357812 \n\" style\u003d\"fill:none;\"/\u003e\n   \u003c/g\u003e\n   \u003cg id\u003d\"legend_1\"\u003e\n    \u003cg id\u003d\"line2d_3\"\u003e\n     \u003cpath d\u003d\"M 40.6 30.015625 \nL 60.6 30.015625 \n\" style\u003d\"fill:none;stroke:#1f77b4;stroke-linecap:round;stroke-width:1.75;\"/\u003e\n    \u003c/g\u003e\n    \u003cg id\u003d\"line2d_4\"/\u003e\n    \u003cg id\u003d\"text_15\"\u003e\n     \u003c!-- id --\u003e\n     \u003cdefs\u003e\n      \u003cpath d\u003d\"M 6.640625 61.46875 \nL 6.640625 71.578125 \nL 15.4375 71.578125 \nL 15.4375 61.46875 \nz\nM 6.640625 0 \nL 6.640625 51.859375 \nL 15.4375 51.859375 \nL 15.4375 0 \nz\n\" id\u003d\"ArialMT-105\"/\u003e\n      \u003cpath d\u003d\"M 40.234375 0 \nL 40.234375 6.546875 \nQ 35.296875 -1.171875 25.734375 -1.171875 \nQ 19.53125 -1.171875 14.328125 2.25 \nQ 9.125 5.671875 6.265625 11.796875 \nQ 3.421875 17.921875 3.421875 25.875 \nQ 3.421875 33.640625 6 39.96875 \nQ 8.59375 46.296875 13.765625 49.65625 \nQ 18.953125 53.03125 25.34375 53.03125 \nQ 30.03125 53.03125 33.6875 51.046875 \nQ 37.359375 49.078125 39.65625 45.90625 \nL 39.65625 71.578125 \nL 48.390625 71.578125 \nL 48.390625 0 \nz\nM 12.453125 25.875 \nQ 12.453125 15.921875 16.640625 10.984375 \nQ 20.84375 6.0625 26.5625 6.0625 \nQ 32.328125 6.0625 36.34375 10.765625 \nQ 40.375 15.484375 40.375 25.140625 \nQ 40.375 35.796875 36.265625 40.765625 \nQ 32.171875 45.75 26.171875 45.75 \nQ 20.3125 45.75 16.375 40.96875 \nQ 12.453125 36.1875 12.453125 25.875 \nz\n\" id\u003d\"ArialMT-100\"/\u003e\n     \u003c/defs\u003e\n     \u003cg style\u003d\"fill:#262626;\" transform\u003d\"translate(68.6 33.515625)scale(0.1 -0.1)\"\u003e\n      \u003cuse xlink:href\u003d\"#ArialMT-105\"/\u003e\n      \u003cuse x\u003d\"22.216797\" xlink:href\u003d\"#ArialMT-100\"/\u003e\n     \u003c/g\u003e\n    \u003c/g\u003e\n    \u003cg id\u003d\"line2d_5\"\u003e\n     \u003cpath d\u003d\"M 40.6 44.160937 \nL 60.6 44.160937 \n\" style\u003d\"fill:none;stroke:#ff7f0e;stroke-linecap:round;stroke-width:1.75;\"/\u003e\n    \u003c/g\u003e\n    \u003cg id\u003d\"line2d_6\"/\u003e\n    \u003cg id\u003d\"text_16\"\u003e\n     \u003c!-- onsale --\u003e\n     \u003cdefs\u003e\n      \u003cpath d\u003d\"M 3.328125 25.921875 \nQ 3.328125 40.328125 11.328125 47.265625 \nQ 18.015625 53.03125 27.640625 53.03125 \nQ 38.328125 53.03125 45.109375 46.015625 \nQ 51.90625 39.015625 51.90625 26.65625 \nQ 51.90625 16.65625 48.90625 10.90625 \nQ 45.90625 5.171875 40.15625 2 \nQ 34.421875 -1.171875 27.640625 -1.171875 \nQ 16.75 -1.171875 10.03125 5.8125 \nQ 3.328125 12.796875 3.328125 25.921875 \nz\nM 12.359375 25.921875 \nQ 12.359375 15.96875 16.703125 11.015625 \nQ 21.046875 6.0625 27.640625 6.0625 \nQ 34.1875 6.0625 38.53125 11.03125 \nQ 42.875 16.015625 42.875 26.21875 \nQ 42.875 35.84375 38.5 40.796875 \nQ 34.125 45.75 27.640625 45.75 \nQ 21.046875 45.75 16.703125 40.8125 \nQ 12.359375 35.890625 12.359375 25.921875 \nz\n\" id\u003d\"ArialMT-111\"/\u003e\n      \u003cpath d\u003d\"M 6.59375 0 \nL 6.59375 51.859375 \nL 14.5 51.859375 \nL 14.5 44.484375 \nQ 20.21875 53.03125 31 53.03125 \nQ 35.6875 53.03125 39.625 51.34375 \nQ 43.5625 49.65625 45.515625 46.921875 \nQ 47.46875 44.1875 48.25 40.4375 \nQ 48.734375 37.984375 48.734375 31.890625 \nL 48.734375 0 \nL 39.9375 0 \nL 39.9375 31.546875 \nQ 39.9375 36.921875 38.90625 39.578125 \nQ 37.890625 42.234375 35.28125 43.8125 \nQ 32.671875 45.40625 29.15625 45.40625 \nQ 23.53125 45.40625 19.453125 41.84375 \nQ 15.375 38.28125 15.375 28.328125 \nL 15.375 0 \nz\n\" id\u003d\"ArialMT-110\"/\u003e\n      \u003cpath d\u003d\"M 3.078125 15.484375 \nL 11.765625 16.84375 \nQ 12.5 11.625 15.84375 8.84375 \nQ 19.1875 6.0625 25.203125 6.0625 \nQ 31.25 6.0625 34.171875 8.515625 \nQ 37.109375 10.984375 37.109375 14.3125 \nQ 37.109375 17.28125 34.515625 19 \nQ 32.71875 20.171875 25.53125 21.96875 \nQ 15.875 24.421875 12.140625 26.203125 \nQ 8.40625 27.984375 6.46875 31.125 \nQ 4.546875 34.28125 4.546875 38.09375 \nQ 4.546875 41.546875 6.125 44.5 \nQ 7.71875 47.46875 10.453125 49.421875 \nQ 12.5 50.921875 16.03125 51.96875 \nQ 19.578125 53.03125 23.640625 53.03125 \nQ 29.734375 53.03125 34.34375 51.265625 \nQ 38.96875 49.515625 41.15625 46.5 \nQ 43.359375 43.5 44.1875 38.484375 \nL 35.59375 37.3125 \nQ 35.015625 41.3125 32.203125 43.546875 \nQ 29.390625 45.796875 24.265625 45.796875 \nQ 18.21875 45.796875 15.625 43.796875 \nQ 13.03125 41.796875 13.03125 39.109375 \nQ 13.03125 37.40625 14.109375 36.03125 \nQ 15.1875 34.625 17.484375 33.6875 \nQ 18.796875 33.203125 25.25 31.453125 \nQ 34.578125 28.953125 38.25 27.359375 \nQ 41.9375 25.78125 44.03125 22.75 \nQ 46.140625 19.734375 46.140625 15.234375 \nQ 46.140625 10.84375 43.578125 6.953125 \nQ 41.015625 3.078125 36.171875 0.953125 \nQ 31.34375 -1.171875 25.25 -1.171875 \nQ 15.140625 -1.171875 9.84375 3.03125 \nQ 4.546875 7.234375 3.078125 15.484375 \nz\n\" id\u003d\"ArialMT-115\"/\u003e\n      \u003cpath d\u003d\"M 40.4375 6.390625 \nQ 35.546875 2.25 31.03125 0.53125 \nQ 26.515625 -1.171875 21.34375 -1.171875 \nQ 12.796875 -1.171875 8.203125 3 \nQ 3.609375 7.171875 3.609375 13.671875 \nQ 3.609375 17.484375 5.34375 20.625 \nQ 7.078125 23.78125 9.890625 25.6875 \nQ 12.703125 27.59375 16.21875 28.5625 \nQ 18.796875 29.25 24.03125 29.890625 \nQ 34.671875 31.15625 39.703125 32.90625 \nQ 39.75 34.71875 39.75 35.203125 \nQ 39.75 40.578125 37.25 42.78125 \nQ 33.890625 45.75 27.25 45.75 \nQ 21.046875 45.75 18.09375 43.578125 \nQ 15.140625 41.40625 13.71875 35.890625 \nL 5.125 37.0625 \nQ 6.296875 42.578125 8.984375 45.96875 \nQ 11.671875 49.359375 16.75 51.1875 \nQ 21.828125 53.03125 28.515625 53.03125 \nQ 35.15625 53.03125 39.296875 51.46875 \nQ 43.453125 49.90625 45.40625 47.53125 \nQ 47.359375 45.171875 48.140625 41.546875 \nQ 48.578125 39.3125 48.578125 33.453125 \nL 48.578125 21.734375 \nQ 48.578125 9.46875 49.140625 6.21875 \nQ 49.703125 2.984375 51.375 0 \nL 42.1875 0 \nQ 40.828125 2.734375 40.4375 6.390625 \nz\nM 39.703125 26.03125 \nQ 34.90625 24.078125 25.34375 22.703125 \nQ 19.921875 21.921875 17.671875 20.9375 \nQ 15.4375 19.96875 14.203125 18.09375 \nQ 12.984375 16.21875 12.984375 13.921875 \nQ 12.984375 10.40625 15.640625 8.0625 \nQ 18.3125 5.71875 23.4375 5.71875 \nQ 28.515625 5.71875 32.46875 7.9375 \nQ 36.421875 10.15625 38.28125 14.015625 \nQ 39.703125 17 39.703125 22.796875 \nz\n\" id\u003d\"ArialMT-97\"/\u003e\n      \u003cpath d\u003d\"M 6.390625 0 \nL 6.390625 71.578125 \nL 15.1875 71.578125 \nL 15.1875 0 \nz\n\" id\u003d\"ArialMT-108\"/\u003e\n     \u003c/defs\u003e\n     \u003cg style\u003d\"fill:#262626;\" transform\u003d\"translate(68.6 47.660937)scale(0.1 -0.1)\"\u003e\n      \u003cuse xlink:href\u003d\"#ArialMT-111\"/\u003e\n      \u003cuse x\u003d\"55.615234\" xlink:href\u003d\"#ArialMT-110\"/\u003e\n      \u003cuse x\u003d\"111.230469\" xlink:href\u003d\"#ArialMT-115\"/\u003e\n      \u003cuse x\u003d\"161.230469\" xlink:href\u003d\"#ArialMT-97\"/\u003e\n      \u003cuse x\u003d\"216.845703\" xlink:href\u003d\"#ArialMT-108\"/\u003e\n      \u003cuse x\u003d\"239.0625\" xlink:href\u003d\"#ArialMT-101\"/\u003e\n     \u003c/g\u003e\n    \u003c/g\u003e\n   \u003c/g\u003e\n  \u003c/g\u003e\n \u003c/g\u003e\n \u003cdefs\u003e\n  \u003cclipPath id\u003d\"p1f804c3f48\"\u003e\n   \u003crect height\u003d\"298.98\" width\u003d\"446.4\" x\u003d\"31.6\" y\u003d\"17.357812\"/\u003e\n  \u003c/clipPath\u003e\n \u003c/defs\u003e\n\u003c/svg\u003e\n",
            "image/png": "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\u003d\u003d\n"
          },
          "metadata": {}
        }
      ],
      "source": "# pandas原生可视化分析\ndf.plot()\n"
    },
    {
      "cell_type": "code",
      "execution_count": 5,
      "outputs": [
        {
          "output_type": "execute_result",
          "data": {
            "text/plain": "pandas.core.frame.DataFrame"
          },
          "metadata": {},
          "execution_count": 5
        }
      ],
      "source": "# 查看数据类型\ntype(df)\n",
      "metadata": {
        "pycharm": {
          "metadata": false,
          "name": "#%%\n",
          "is_executing": false
        }
      }
    },
    {
      "cell_type": "code",
      "execution_count": 6,
      "outputs": [
        {
          "output_type": "execute_result",
          "data": {
            "text/plain": "(6059, 8)"
          },
          "metadata": {},
          "execution_count": 6
        }
      ],
      "source": [
        "# 看看一共有多少数据，多少列\n",
        "df.shape\n",
        ""
      ],
      "metadata": {
        "pycharm": {
          "metadata": false,
          "name": "#%%\n",
          "is_executing": false
        }
      }
    },
    {
      "cell_type": "code",
      "execution_count": 7,
      "outputs": [
        {
          "output_type": "execute_result",
          "data": {
            "text/plain": "              id    title                                          link  \\\n0  1111000004310  什坊院甲3号院  https://bj.lianjia.com/xiaoqu/1111000004310/   \n1  1111027373682   大慧寺6号院  https://bj.lianjia.com/xiaoqu/1111027373682/   \n2  1111027373683  东花市北里东区  https://bj.lianjia.com/xiaoqu/1111027373683/   \n3  1111027373684  东花市北里西区  https://bj.lianjia.com/xiaoqu/1111027373684/   \n4  1111027373685  东花市北里中区  https://bj.lianjia.com/xiaoqu/1111027373685/   \n\n  district bizcircle      tagList  onsale            validdate  \n0       海淀        田村          NaN       0  2017-11-29 15:47:56  \n1       海淀       白石桥          NaN       2  2017-11-29 15:39:42  \n2       东城       东花市   近地铁1号线王府井站       0  2017-11-29 14:57:31  \n3       东城       东花市  近地铁7号线广渠门内站       7  2017-11-29 14:56:56  \n4       东城       东花市   近地铁2号线朝阳门站       9  2017-11-29 14:56:18  ",
            "text/html": "\u003cdiv\u003e\n\u003cstyle scoped\u003e\n    .dataframe tbody tr th:only-of-type {\n        vertical-align: middle;\n    }\n\n    .dataframe tbody tr th {\n        vertical-align: top;\n    }\n\n    .dataframe thead th {\n        text-align: right;\n    }\n\u003c/style\u003e\n\u003ctable border\u003d\"1\" class\u003d\"dataframe\"\u003e\n  \u003cthead\u003e\n    \u003ctr style\u003d\"text-align: right;\"\u003e\n      \u003cth\u003e\u003c/th\u003e\n      \u003cth\u003eid\u003c/th\u003e\n      \u003cth\u003etitle\u003c/th\u003e\n      \u003cth\u003elink\u003c/th\u003e\n      \u003cth\u003edistrict\u003c/th\u003e\n      \u003cth\u003ebizcircle\u003c/th\u003e\n      \u003cth\u003etagList\u003c/th\u003e\n      \u003cth\u003eonsale\u003c/th\u003e\n      \u003cth\u003evaliddate\u003c/th\u003e\n    \u003c/tr\u003e\n  \u003c/thead\u003e\n  \u003ctbody\u003e\n    \u003ctr\u003e\n      \u003cth\u003e0\u003c/th\u003e\n      \u003ctd\u003e1111000004310\u003c/td\u003e\n      \u003ctd\u003e什坊院甲3号院\u003c/td\u003e\n      \u003ctd\u003ehttps://bj.lianjia.com/xiaoqu/1111000004310/\u003c/td\u003e\n      \u003ctd\u003e海淀\u003c/td\u003e\n      \u003ctd\u003e田村\u003c/td\u003e\n      \u003ctd\u003eNaN\u003c/td\u003e\n      \u003ctd\u003e0\u003c/td\u003e\n      \u003ctd\u003e2017-11-29 15:47:56\u003c/td\u003e\n    \u003c/tr\u003e\n    \u003ctr\u003e\n      \u003cth\u003e1\u003c/th\u003e\n      \u003ctd\u003e1111027373682\u003c/td\u003e\n      \u003ctd\u003e大慧寺6号院\u003c/td\u003e\n      \u003ctd\u003ehttps://bj.lianjia.com/xiaoqu/1111027373682/\u003c/td\u003e\n      \u003ctd\u003e海淀\u003c/td\u003e\n      \u003ctd\u003e白石桥\u003c/td\u003e\n      \u003ctd\u003eNaN\u003c/td\u003e\n      \u003ctd\u003e2\u003c/td\u003e\n      \u003ctd\u003e2017-11-29 15:39:42\u003c/td\u003e\n    \u003c/tr\u003e\n    \u003ctr\u003e\n      \u003cth\u003e2\u003c/th\u003e\n      \u003ctd\u003e1111027373683\u003c/td\u003e\n      \u003ctd\u003e东花市北里东区\u003c/td\u003e\n      \u003ctd\u003ehttps://bj.lianjia.com/xiaoqu/1111027373683/\u003c/td\u003e\n      \u003ctd\u003e东城\u003c/td\u003e\n      \u003ctd\u003e东花市\u003c/td\u003e\n      \u003ctd\u003e近地铁1号线王府井站\u003c/td\u003e\n      \u003ctd\u003e0\u003c/td\u003e\n      \u003ctd\u003e2017-11-29 14:57:31\u003c/td\u003e\n    \u003c/tr\u003e\n    \u003ctr\u003e\n      \u003cth\u003e3\u003c/th\u003e\n      \u003ctd\u003e1111027373684\u003c/td\u003e\n      \u003ctd\u003e东花市北里西区\u003c/td\u003e\n      \u003ctd\u003ehttps://bj.lianjia.com/xiaoqu/1111027373684/\u003c/td\u003e\n      \u003ctd\u003e东城\u003c/td\u003e\n      \u003ctd\u003e东花市\u003c/td\u003e\n      \u003ctd\u003e近地铁7号线广渠门内站\u003c/td\u003e\n      \u003ctd\u003e7\u003c/td\u003e\n      \u003ctd\u003e2017-11-29 14:56:56\u003c/td\u003e\n    \u003c/tr\u003e\n    \u003ctr\u003e\n      \u003cth\u003e4\u003c/th\u003e\n      \u003ctd\u003e1111027373685\u003c/td\u003e\n      \u003ctd\u003e东花市北里中区\u003c/td\u003e\n      \u003ctd\u003ehttps://bj.lianjia.com/xiaoqu/1111027373685/\u003c/td\u003e\n      \u003ctd\u003e东城\u003c/td\u003e\n      \u003ctd\u003e东花市\u003c/td\u003e\n      \u003ctd\u003e近地铁2号线朝阳门站\u003c/td\u003e\n      \u003ctd\u003e9\u003c/td\u003e\n      \u003ctd\u003e2017-11-29 14:56:18\u003c/td\u003e\n    \u003c/tr\u003e\n  \u003c/tbody\u003e\n\u003c/table\u003e\n\u003c/div\u003e"
          },
          "metadata": {},
          "execution_count": 7
        }
      ],
      "source": [
        "# 设置列数太多时不隐藏\n",
        "pd.set_option(\"display.max.columns\", None)\n",
        "# 设置数据小数点后面跟2位\n",
        "pd.set_option(\"display.precision\", 2)\n",
        "# 查看前五行\n",
        "df.head()\n",
        ""
      ],
      "metadata": {
        "pycharm": {
          "metadata": false,
          "name": "#%%\n",
          "is_executing": false
        }
      }
    },
    {
      "cell_type": "code",
      "execution_count": 8,
      "outputs": [
        {
          "output_type": "stream",
          "name": "stdout",
          "text": "\u003cclass \u0027pandas.core.frame.DataFrame\u0027\u003e\nRangeIndex: 6059 entries, 0 to 6058\nData columns (total 8 columns):\nid           6059 non-null int64\ntitle        6059 non-null object\nlink         6059 non-null object\ndistrict     6059 non-null object\nbizcircle    6059 non-null object\ntagList      4571 non-null object\nonsale       6059 non-null int64\nvaliddate    6059 non-null object\ndtypes: int64(2), object(6)\nmemory usage: 378.8+ KB\n"
        }
      ],
      "source": [
        "# 显示所有列及其数据类型\n",
        "df.info()\n",
        ""
      ],
      "metadata": {
        "pycharm": {
          "metadata": false,
          "name": "#%%\n",
          "is_executing": false
        }
      }
    },
    {
      "cell_type": "code",
      "execution_count": 9,
      "outputs": [
        {
          "output_type": "execute_result",
          "data": {
            "text/plain": "       title                                          link district bizcircle  \\\ncount   6059                                          6059     6059      6059   \nunique  6055                                          6059        4       141   \ntop     永安东里  https://bj.lianjia.com/xiaoqu/1111043241688/       朝阳        西四   \nfreq       2                                             1     1764       148   \n\n           tagList            validdate  \ncount         4571                 6059  \nunique         185                 6059  \ntop     近地铁2号线积水潭站  2017-11-29 14:34:05  \nfreq           147                    1  ",
            "text/html": "\u003cdiv\u003e\n\u003cstyle scoped\u003e\n    .dataframe tbody tr th:only-of-type {\n        vertical-align: middle;\n    }\n\n    .dataframe tbody tr th {\n        vertical-align: top;\n    }\n\n    .dataframe thead th {\n        text-align: right;\n    }\n\u003c/style\u003e\n\u003ctable border\u003d\"1\" class\u003d\"dataframe\"\u003e\n  \u003cthead\u003e\n    \u003ctr style\u003d\"text-align: right;\"\u003e\n      \u003cth\u003e\u003c/th\u003e\n      \u003cth\u003etitle\u003c/th\u003e\n      \u003cth\u003elink\u003c/th\u003e\n      \u003cth\u003edistrict\u003c/th\u003e\n      \u003cth\u003ebizcircle\u003c/th\u003e\n      \u003cth\u003etagList\u003c/th\u003e\n      \u003cth\u003evaliddate\u003c/th\u003e\n    \u003c/tr\u003e\n  \u003c/thead\u003e\n  \u003ctbody\u003e\n    \u003ctr\u003e\n      \u003cth\u003ecount\u003c/th\u003e\n      \u003ctd\u003e6059\u003c/td\u003e\n      \u003ctd\u003e6059\u003c/td\u003e\n      \u003ctd\u003e6059\u003c/td\u003e\n      \u003ctd\u003e6059\u003c/td\u003e\n      \u003ctd\u003e4571\u003c/td\u003e\n      \u003ctd\u003e6059\u003c/td\u003e\n    \u003c/tr\u003e\n    \u003ctr\u003e\n      \u003cth\u003eunique\u003c/th\u003e\n      \u003ctd\u003e6055\u003c/td\u003e\n      \u003ctd\u003e6059\u003c/td\u003e\n      \u003ctd\u003e4\u003c/td\u003e\n      \u003ctd\u003e141\u003c/td\u003e\n      \u003ctd\u003e185\u003c/td\u003e\n      \u003ctd\u003e6059\u003c/td\u003e\n    \u003c/tr\u003e\n    \u003ctr\u003e\n      \u003cth\u003etop\u003c/th\u003e\n      \u003ctd\u003e永安东里\u003c/td\u003e\n      \u003ctd\u003ehttps://bj.lianjia.com/xiaoqu/1111043241688/\u003c/td\u003e\n      \u003ctd\u003e朝阳\u003c/td\u003e\n      \u003ctd\u003e西四\u003c/td\u003e\n      \u003ctd\u003e近地铁2号线积水潭站\u003c/td\u003e\n      \u003ctd\u003e2017-11-29 14:34:05\u003c/td\u003e\n    \u003c/tr\u003e\n    \u003ctr\u003e\n      \u003cth\u003efreq\u003c/th\u003e\n      \u003ctd\u003e2\u003c/td\u003e\n      \u003ctd\u003e1\u003c/td\u003e\n      \u003ctd\u003e1764\u003c/td\u003e\n      \u003ctd\u003e148\u003c/td\u003e\n      \u003ctd\u003e147\u003c/td\u003e\n      \u003ctd\u003e1\u003c/td\u003e\n    \u003c/tr\u003e\n  \u003c/tbody\u003e\n\u003c/table\u003e\n\u003c/div\u003e"
          },
          "metadata": {},
          "execution_count": 9
        }
      ],
      "source": [
        "import numpy as np\n",
        "# 概述每个列包含的值了\n",
        "# 默认情况下仅分析数字列，但是如果使用include参数，则可以提供其他数据类型\n",
        "df.describe(include\u003dnp.object)\n",
        ""
      ],
      "metadata": {
        "pycharm": {
          "metadata": false,
          "name": "#%%\n",
          "is_executing": false
        }
      }
    },
    {
      "cell_type": "code",
      "execution_count": 10,
      "outputs": [
        {
          "output_type": "execute_result",
          "data": {
            "text/plain": "朝阳    1764\n海淀    1651\n西城    1531\n东城    1113\nName: district, dtype: int64"
          },
          "metadata": {},
          "execution_count": 10
        }
      ],
      "source": "# 探索分析某列\ndf[\u0027district\u0027].value_counts()\n",
      "metadata": {
        "pycharm": {
          "metadata": false,
          "name": "#%%\n",
          "is_executing": false
        }
      }
    },
    {
      "cell_type": "code",
      "execution_count": 11,
      "metadata": {
        "pycharm": {}
      },
      "outputs": [
        {
          "output_type": "execute_result",
          "data": {
            "text/plain": "紫竹桥       87\n清河        85\n西山        84\n海淀北部新区    83\n五棵松       82\n公主坟       75\n甘家口       64\n定慧寺       61\n田村        57\n西直门       53\n苏州桥       53\n小西天       48\n军博        46\n白石桥       43\n五道口       42\n皂君庙       42\n马连洼       40\n万寿路       40\n牡丹园       40\n四季青       38\n学院路       36\n中关村       35\n魏公村       35\n西三旗       32\n玉泉路       31\n知春路       30\n颐和园       28\n世纪城       27\n北太平庄      25\n安宁庄       24\n新街口       23\n上地        21\n双榆树       20\n厂洼        18\n万柳        17\n西北旺       15\n马甸        15\n二里庄       15\n圆明园       11\n海淀其它       9\n西二旗        9\n六里桥        8\n杨庄         4\nName: bizcircle, dtype: int64"
          },
          "metadata": {},
          "execution_count": 11
        }
      ],
      "source": "# 探索分析海淀的各个商圈的房屋数\ndf.loc[df[\"district\"] \u003d\u003d \"海淀\", \"bizcircle\"].value_counts()\n"
    }
  ],
  "metadata": {
    "language_info": {
      "codemirror_mode": {
        "name": "ipython",
        "version": 2
      },
      "file_extension": ".py",
      "mimetype": "text/x-python",
      "name": "python",
      "nbconvert_exporter": "python",
      "pygments_lexer": "ipython2",
      "version": "3.7.4-final"
    },
    "kernelspec": {
      "name": "python3",
      "language": "python",
      "display_name": "Python 3"
    },
    "stem_cell": {
      "cell_type": "raw",
      "source": "",
      "metadata": {
        "pycharm": {
          "metadata": false
        }
      }
    }
  },
  "nbformat": 4,
  "nbformat_minor": 0
}